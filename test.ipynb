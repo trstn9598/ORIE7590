{
 "cells": [
  {
   "cell_type": "code",
   "execution_count": 2,
   "id": "4f401949",
   "metadata": {},
   "outputs": [],
   "source": [
    "from BD_simulator import MC_BESQ_gateway, MC_BESQviaLaguerre_gateway, exact_BESQ\n",
    "import numpy as np\n",
    "# J: Bessel function\n",
    "from scipy.special import jv as J\n",
    "# L: Laguerre polynomial\n",
    "from scipy.special import  eval_laguerre as L"
   ]
  },
  {
   "cell_type": "code",
   "execution_count": 3,
   "id": "df76a9d8",
   "metadata": {},
   "outputs": [
    {
     "name": "stdout",
     "output_type": "stream",
     "text": [
      "Test  1 : Bessel functions\n",
      "Initial values:  range(0, 10)\n",
      "Times:  [0, 0.2, 0.5, 1, 2, 5]\n",
      "Estimates from dBESQ simulation:\n",
      "[[1.0, 0.2208, -0.189, -0.3734, -0.3972, -0.3289, -0.2094, -0.0865, 0.0443, 0.1525], [0.8262, 0.1789, -0.1562, -0.3131, -0.3266, -0.2685, -0.1694, -0.0629, 0.0317, 0.1222], [0.6239, 0.1205, -0.1207, -0.2212, -0.2344, -0.1904, -0.1254, -0.0433, 0.0374, 0.0854], [0.3922, 0.0838, -0.0605, -0.1271, -0.1433, -0.1201, -0.0788, -0.0308, 0.0064, 0.0527], [0.1437, 0.0381, -0.0159, -0.0455, -0.0484, -0.0454, -0.0224, -0.0121, 0.0004, 0.0246], [0.0153, -0.0037, 0.0104, 0.0011, -0.0034, 0.0033, 0.001, -0.0064, -0.0106, 0.0001]]\n",
      "Estimates from dLaguerre simulation:\n",
      "[[1.0, 0.2088, -0.1954, -0.374, -0.3961, -0.3315, -0.2083, -0.0807, 0.0487, 0.1509], [0.8274, 0.1928, -0.1659, -0.3095, -0.323, -0.2653, -0.1719, -0.0667, 0.0442, 0.1299], [0.6043, 0.1605, -0.1144, -0.2089, -0.2489, -0.1804, -0.1174, -0.037, 0.0284, 0.0881], [0.3868, 0.0785, -0.0799, -0.1236, -0.1568, -0.1225, -0.08, -0.0349, 0.0126, 0.0571], [0.1454, 0.0553, -0.0117, -0.0466, -0.0628, -0.0597, -0.0464, -0.0211, 0.0128, 0.0302], [0.0335, 0.0274, -0.0575, -0.0168, -0.0029, 0.0574, 0.0091, 0.0145, 0.0445, 0.056]]\n",
      "Exact BESQ computation:\n",
      "[[1.0, 0.2239, -0.1965, -0.3749, -0.3971, -0.3269, -0.2101, -0.0787, 0.0458, 0.1506], [0.8187, 0.1833, -0.1609, -0.307, -0.3252, -0.2676, -0.172, -0.0645, 0.0375, 0.1233], [0.6065, 0.1358, -0.1192, -0.2274, -0.2409, -0.1983, -0.1274, -0.0478, 0.0278, 0.0914], [0.3679, 0.0824, -0.0723, -0.1379, -0.1461, -0.1203, -0.0773, -0.029, 0.0169, 0.0554], [0.1353, 0.0303, -0.0266, -0.0507, -0.0537, -0.0442, -0.0284, -0.0107, 0.0062, 0.0204], [0.0067, 0.0015, -0.0013, -0.0025, -0.0027, -0.0022, -0.0014, -0.0005, 0.0003, 0.001]]\n"
     ]
    }
   ],
   "source": [
    "testno = 0\n",
    "# TEST: (reparametrized) Bessel functions\n",
    "# Methods: dBESQ simulation, dLaguerre simulation, exact BESQ\n",
    "testno += 1\n",
    "num_paths = 10**4\n",
    "x0_array = range(10)\n",
    "times = [0, 0.2, 0.5, 1, 2, 5]\n",
    "dBESQ_estimates = [[MC_BESQ_gateway(N = num_paths, t = t, x0 = x0, test = 'bessel') for x0 in x0_array] for t in times]\n",
    "dLaguerre_estimates = [[MC_BESQviaLaguerre_gateway(N = num_paths, t = t, x0 = x0, test = 'bessel') for x0 in x0_array] for t in times]\n",
    "BESQ_values = [[exact_BESQ(t = t, x0 = x0) for x0 in x0_array] for t in times]\n",
    "print('Test ', testno, ': Bessel functions')\n",
    "print('Initial values: ', x0_array)\n",
    "print('Times: ', times)\n",
    "print('Estimates from dBESQ simulation:')\n",
    "print(dBESQ_estimates)\n",
    "print('Estimates from dLaguerre simulation:')\n",
    "print(dLaguerre_estimates)\n",
    "print('Exact BESQ computation:')\n",
    "print(BESQ_values)"
   ]
  },
  {
   "cell_type": "code",
   "execution_count": 4,
   "id": "ec090d23",
   "metadata": {
    "scrolled": true
   },
   "outputs": [
    {
     "name": "stdout",
     "output_type": "stream",
     "text": [
      "Test  2 : Polynomials\n",
      "Initial values:  range(0, 10)\n",
      "Times:  [0, 0.2, 0.5, 1, 2, 5]\n",
      "Estimates from dBESQ simulation:\n",
      "[[1.6243, -0.5194, -10.0524, -32.7677, -78.5305, -147.1901, -254.3739, -400.9901, -594.4521, -821.0643], [1.3931, -4.2732, -19.9653, -53.7704, -111.3012, -208.4533, -328.1857, -507.4151, -723.0023, -989.7823], [0.4249, -12.9641, -43.7205, -104.1599, -172.262, -310.2599, -455.7005, -694.8199, -930.4269, -1333.8587], [-6.0379, -41.0676, -100.9731, -199.7848, -331.7918, -529.6557, -719.4619, -1015.1645, -1431.9475, -1901.7032], [-60.8215, -146.9658, -308.9751, -489.4277, -725.5141, -1166.1626, -1598.7012, -2048.416, -2793.6196, -3246.7083], [-849.3391, -1258.2627, -1850.4283, -2898.6243, -3541.8221, -4564.2592, -5972.7743, -7070.9683, -8506.414, -10554.1422]]\n",
      "Estimates from dLaguerre simulation:\n",
      "[[1.6243, -0.5086, -9.947, -33.7752, -78.16, -147.3003, -253.0751, -396.4018, -585.7101, -823.8015], [1.4144, -3.4467, -22.279, -58.8294, -112.773, -210.994, -335.6445, -533.1895, -724.2963, -1034.8276], [0.0042, -12.5989, -43.1977, -96.9367, -162.8564, -327.0881, -450.5438, -670.7074, -997.4734, -1289.5137], [-6.024, -44.0815, -108.8654, -194.6978, -315.4633, -538.3632, -744.3411, -1048.1573, -1505.5384, -1891.9461], [-53.4333, -154.874, -311.8402, -546.1134, -827.7773, -1186.7904, -1595.3894, -2070.9159, -2633.26, -3095.5956], [-859.6491, -1903.3559, -2107.9153, -2577.9976, -3607.1303, -5077.1435, -5223.4384, -6900.2473, -9277.1018, -10011.27]]\n"
     ]
    }
   ],
   "source": [
    "# TEST: polynomials\n",
    "# Methods: dBESQ simulation, dLaguerre simulation\n",
    "testno += 1\n",
    "nrounds = 1\n",
    "degree = 3\n",
    "np.random.seed(1)\n",
    "for i in range(nrounds):\n",
    "    coeff = np.random.standard_normal(degree+1)\n",
    "    dBESQ_estimates_poly = [[MC_BESQ_gateway(N = num_paths, t = t, x0 = x0, test = 'poly', args = [coeff]) for x0 in x0_array] for t in times]\n",
    "    dLaguerre_estimates_poly = [[MC_BESQviaLaguerre_gateway(N = num_paths, t = t, x0 = x0, test = 'poly', args = [coeff]) for x0 in x0_array] for t in times]\n",
    "print('Test ', testno, ': Polynomials')\n",
    "print('Initial values: ', x0_array)\n",
    "print('Times: ', times)\n",
    "print('Estimates from dBESQ simulation:')\n",
    "print(dBESQ_estimates_poly)\n",
    "print('Estimates from dLaguerre simulation:')\n",
    "print(dLaguerre_estimates_poly)\n",
    "    \n",
    "\n",
    "# x0 = 1\n",
    "# coef = [0, 1]\n",
    "# t = 0.1\n",
    "# # print(MC_BESQ_gateway(N = 10**4, t = t, x0 = x0, test = 'bessel'))\n",
    "# # print(MC_BESQviaLaguerre_gateway(N = 10**4, t = t, x0 = x0, test = 'bessel')\n",
    "# print(exact_BESQ(t = t, x0 = x0))\n",
    "# print(MC_BESQ_hankel(N = 10**3, t = t, x0 = x0, test = 'poly', args = [coef]))\n",
    "# # print(hankel_modified(np.random.exponential(t), lambda x : np.sqrt(x)))"
   ]
  },
  {
   "cell_type": "code",
   "execution_count": null,
   "id": "49a48d07",
   "metadata": {},
   "outputs": [],
   "source": []
  }
 ],
 "metadata": {
  "kernelspec": {
   "display_name": "Python 3 (ipykernel)",
   "language": "python",
   "name": "python3"
  },
  "language_info": {
   "codemirror_mode": {
    "name": "ipython",
    "version": 3
   },
   "file_extension": ".py",
   "mimetype": "text/x-python",
   "name": "python",
   "nbconvert_exporter": "python",
   "pygments_lexer": "ipython3",
   "version": "3.10.0"
  }
 },
 "nbformat": 4,
 "nbformat_minor": 5
}
