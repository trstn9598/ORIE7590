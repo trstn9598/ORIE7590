{
 "cells": [
  {
   "cell_type": "code",
   "execution_count": 1,
   "metadata": {
    "collapsed": true
   },
   "outputs": [],
   "source": [
    "import numpy as np\n",
    "from BD_simulator import bd_simulator"
   ]
  },
  {
   "cell_type": "markdown",
   "source": [
    "function bd_simulator simulates a list of realizations from certain distribution. The code below simulates 10000 realizations of $X_{10}$ with $X_0 \\sim \\lambda(3)$ where $\\lambda$ is the Poisson distribution"
   ],
   "metadata": {
    "collapsed": false,
    "pycharm": {
     "name": "#%% md\n"
    }
   }
  },
  {
   "cell_type": "code",
   "execution_count": 2,
   "outputs": [
    {
     "name": "stdout",
     "output_type": "stream",
     "text": [
      "5.46 s ± 36.6 ms per loop (mean ± std. dev. of 7 runs, 1 loop each)\n"
     ]
    }
   ],
   "source": [
    " %timeit res = bd_simulator(10, np.random.poisson(3, int(1e4)))"
   ],
   "metadata": {
    "collapsed": false,
    "pycharm": {
     "name": "#%%\n"
    }
   }
  },
  {
   "cell_type": "markdown",
   "source": [
    "From above, we see that it is definitely a bit slow. But for now let us use it as a baseline"
   ],
   "metadata": {
    "collapsed": false,
    "pycharm": {
     "name": "#%% md\n"
    }
   }
  },
  {
   "cell_type": "markdown",
   "source": [
    "Use the same notation as in the draft. According to Theorem 3.1 we have\n",
    "$$\\mathbb E_x[F(X_t)] = \\mathbb E_{\\lambda_x}[\\mathbb F(\\mathbb X_t)]$$\n",
    "For RHS, we could use the bd_simulator to get the MC estimate. What remains to do is to compute the LHS with convenient choice of $F$ (thus $\\mathbb F$) and compare."
   ],
   "metadata": {
    "collapsed": false,
    "pycharm": {
     "name": "#%% md\n"
    }
   }
  }
 ],
 "metadata": {
  "kernelspec": {
   "display_name": "Python 3",
   "language": "python",
   "name": "python3"
  },
  "language_info": {
   "codemirror_mode": {
    "name": "ipython",
    "version": 2
   },
   "file_extension": ".py",
   "mimetype": "text/x-python",
   "name": "python",
   "nbconvert_exporter": "python",
   "pygments_lexer": "ipython2",
   "version": "2.7.6"
  }
 },
 "nbformat": 4,
 "nbformat_minor": 0
}