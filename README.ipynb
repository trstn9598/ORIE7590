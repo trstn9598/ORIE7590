{
 "cells": [
  {
   "cell_type": "code",
   "execution_count": 1,
   "metadata": {
    "collapsed": true
   },
   "outputs": [],
   "source": [
    "import numpy as np\n",
    "# !pip install --user --upgrade mpmath\n",
    "# !pip install gwr_inversion\n",
    "# !pip install birdepy\n",
    "import birdepy as bd"
   ]
  },
  {
   "cell_type": "code",
   "execution_count": 2,
   "outputs": [
    {
     "name": "stdout",
     "output_type": "stream",
     "text": [
      "16.9 s ± 40.1 ms per loop (mean ± std. dev. of 7 runs, 1 loop each)\n"
     ]
    }
   ],
   "source": [
    "# param: parameter that feeds into custom rate fn, we do not need it so set it as empty list\n",
    "# model: we use custom rate for flexibility, for now it is only linear rate with migration (affine rate)\n",
    "# z0: initial values, any callable works (e.g. a Poisson generator)\n",
    "# obs_times: a list of discrete observation time\n",
    "# k: number of params\n",
    "obs_times = [10]\n",
    "# initial distribution is Poisson\n",
    "z0 = lambda :np.random.poisson(3)\n",
    "%timeit pop_sizes = bd.simulate.discrete([1, 1, 1], model='linear-migration', z0=z0, times=obs_times, seed=2021, k = 10**4)\n",
    "#pop_sizes = bd.simulate.discrete([1, 1, 1], model='linear-migration', z0=z0, times=obs_times, seed=2021, k = 10**5)"
   ],
   "metadata": {
    "collapsed": false,
    "pycharm": {
     "name": "#%%\n"
    }
   }
  },
  {
   "cell_type": "code",
   "execution_count": 3,
   "outputs": [
    {
     "name": "stdout",
     "output_type": "stream",
     "text": [
      "27.6 ms ± 120 µs per loop (mean ± std. dev. of 7 runs, 10 loops each)\n"
     ]
    }
   ],
   "source": [
    "from BD_simulator import bd_simulator\n",
    "x0 = lambda :np.random.poisson(3)\n",
    "%timeit res = bd_simulator(10, x0=3, k=10**4)"
   ],
   "metadata": {
    "collapsed": false,
    "pycharm": {
     "name": "#%%\n"
    }
   }
  }
 ],
 "metadata": {
  "kernelspec": {
   "display_name": "Python 3",
   "language": "python",
   "name": "python3"
  },
  "language_info": {
   "codemirror_mode": {
    "name": "ipython",
    "version": 2
   },
   "file_extension": ".py",
   "mimetype": "text/x-python",
   "name": "python",
   "nbconvert_exporter": "python",
   "pygments_lexer": "ipython2",
   "version": "2.7.6"
  }
 },
 "nbformat": 4,
 "nbformat_minor": 0
}