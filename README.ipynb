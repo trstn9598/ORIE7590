{
 "cells": [
  {
   "cell_type": "code",
   "execution_count": 1,
   "metadata": {
    "collapsed": true
   },
   "outputs": [],
   "source": [
    "import numpy as np\n",
    "# !pip install --user --upgrade mpmath\n",
    "# !pip install gwr_inversion\n",
    "# !pip install birdepy\n",
    "import birdepy as bd\n",
    "from BD_simulator import bd_simulator\n",
    "from test import test_bessel_bd"
   ]
  },
  {
   "cell_type": "code",
   "execution_count": 2,
   "outputs": [],
   "source": [
    "x0 = 3\n",
    "T = 4\n",
    "num_paths = 10 ** 6\n",
    "def poisson_x0():\n",
    "    return np.random.poisson(x0)\n",
    "\n",
    "from scipy.special import jv as J\n",
    "from scipy.special import  eval_laguerre as L\n",
    "\n",
    "last_states = bd_simulator(T, x0=poisson_x0, num_paths=num_paths, num_threads=1)\n",
    "j_actual = np.exp(-T) * J(0, 2*np.sqrt(x0))\n",
    "j_estimate = np.mean(L(last_states, 1))"
   ],
   "metadata": {
    "collapsed": false,
    "pycharm": {
     "name": "#%%\n"
    }
   }
  },
  {
   "cell_type": "code",
   "execution_count": 3,
   "outputs": [
    {
     "name": "stdout",
     "output_type": "stream",
     "text": [
      "error is:  6.28811808711157e-05\n"
     ]
    }
   ],
   "source": [
    "print(\"error is: \",np.abs(j_actual - j_estimate))"
   ],
   "metadata": {
    "collapsed": false,
    "pycharm": {
     "name": "#%%\n"
    }
   }
  },
  {
   "cell_type": "code",
   "execution_count": 4,
   "outputs": [
    {
     "data": {
      "text/plain": "(-0.006867008424565817, -0.006285231142691125)"
     },
     "execution_count": 4,
     "metadata": {},
     "output_type": "execute_result"
    }
   ],
   "source": [
    "# or simply call test_bd_bessel\n",
    "test_bessel_bd(num_paths, T, x0)"
   ],
   "metadata": {
    "collapsed": false,
    "pycharm": {
     "name": "#%%\n"
    }
   }
  },
  {
   "cell_type": "code",
   "execution_count": 5,
   "outputs": [
    {
     "name": "stdout",
     "output_type": "stream",
     "text": [
      "16.5 s ± 820 ms per loop (mean ± std. dev. of 7 runs, 1 loop each)\n"
     ]
    }
   ],
   "source": [
    "obs_times = [10]\n",
    "# initial distribution is Poisson\n",
    "z0 = lambda :np.random.poisson(3)\n",
    "%timeit pop_sizes = bd.simulate.discrete([1, 1, 1], model='linear-migration', z0=z0, times=obs_times, seed=2021, k = 10**4)\n",
    "#pop_sizes = bd.simulate.discrete([1, 1, 1], model='linear-migration', z0=z0, times=obs_times, seed=2021, k = 10**5)"
   ],
   "metadata": {
    "collapsed": false,
    "pycharm": {
     "name": "#%%\n"
    }
   }
  },
  {
   "cell_type": "code",
   "execution_count": 6,
   "outputs": [
    {
     "name": "stdout",
     "output_type": "stream",
     "text": [
      "28.1 ms ± 215 µs per loop (mean ± std. dev. of 7 runs, 10 loops each)\n"
     ]
    }
   ],
   "source": [
    "x0 = lambda :np.random.poisson(3)\n",
    "%timeit res = bd_simulator(10, x0=3, num_paths=10**4)"
   ],
   "metadata": {
    "collapsed": false,
    "pycharm": {
     "name": "#%%\n"
    }
   }
  }
 ],
 "metadata": {
  "kernelspec": {
   "display_name": "Python 3",
   "language": "python",
   "name": "python3"
  },
  "language_info": {
   "codemirror_mode": {
    "name": "ipython",
    "version": 2
   },
   "file_extension": ".py",
   "mimetype": "text/x-python",
   "name": "python",
   "nbconvert_exporter": "python",
   "pygments_lexer": "ipython2",
   "version": "2.7.6"
  }
 },
 "nbformat": 4,
 "nbformat_minor": 0
}