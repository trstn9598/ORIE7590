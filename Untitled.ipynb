{
 "cells": [
  {
   "cell_type": "code",
   "execution_count": 3,
   "id": "ec090d23",
   "metadata": {},
   "outputs": [
    {
     "name": "stdout",
     "output_type": "stream",
     "text": [
      "Test  1 : Bessel functions\n",
      "Initial values:  range(0, 10)\n",
      "Times:  [0, 0.2, 0.5, 1, 2, 5]\n",
      "Estimates from dBESQ simulation:\n",
      "[[1.0, 0.2483, -0.2289, -0.3409, -0.4108, -0.2907, -0.2113, -0.0569, 0.0174, 0.1246], [0.8567, 0.1755, -0.2445, -0.3865, -0.3469, -0.2912, -0.2199, -0.1046, 0.0583, 0.111], [0.6203, 0.2446, -0.1902, -0.3645, -0.1546, -0.2243, -0.0824, -0.0921, 0.0528, 0.1127], [0.4817, 0.0106, -0.0558, -0.2503, -0.1212, -0.0881, -0.0793, -0.0598, 0.0249, 0.0097], [0.1526, 0.0318, 0.0302, -0.0639, -0.0671, -0.0067, -0.0126, -0.0196, 0.0634, 0.0387], [0.1349, 0.082, 0.0045, 0.0516, -0.065, -0.0425, 0.0114, -0.0387, 0.0292, -0.0472]]\n",
      "Estimates from dLaguerre simulation:\n",
      "[[1.0, 0.2383, -0.2612, -0.4076, -0.3776, -0.326, -0.1822, -0.0841, 0.0349, 0.1564], [0.94, 0.1336, -0.1595, -0.2311, -0.3486, -0.2488, -0.2183, -0.0433, -0.0389, 0.0677], [0.6138, 0.1689, 0.0415, -0.2, -0.2719, -0.2564, -0.1162, 0.041, -0.0461, 0.1563], [0.48, 0.0907, -0.0573, -0.1641, -0.1392, -0.1143, -0.0922, -0.0605, 0.076, 0.072], [0.2601, 0.1947, -0.2163, 0.1048, -0.1534, -0.0628, 0.0338, -0.0013, 0.0753, -0.1183], [-0.14, -0.008, 0.1878, -0.5411, -0.3457, 0.4411, 0.3451, -0.4722, -0.3437, -0.0557]]\n",
      "Exact BESQ computation:\n",
      "[[1.0, 0.2239, -0.1965, -0.3749, -0.3971, -0.3269, -0.2101, -0.0787, 0.0458, 0.1506], [0.8187, 0.1833, -0.1609, -0.307, -0.3252, -0.2676, -0.172, -0.0645, 0.0375, 0.1233], [0.6065, 0.1358, -0.1192, -0.2274, -0.2409, -0.1983, -0.1274, -0.0478, 0.0278, 0.0914], [0.3679, 0.0824, -0.0723, -0.1379, -0.1461, -0.1203, -0.0773, -0.029, 0.0169, 0.0554], [0.1353, 0.0303, -0.0266, -0.0507, -0.0537, -0.0442, -0.0284, -0.0107, 0.0062, 0.0204], [0.0067, 0.0015, -0.0013, -0.0025, -0.0027, -0.0022, -0.0014, -0.0005, 0.0003, 0.001]]\n",
      "Initial values:  range(0, 10)\n",
      "Times:  [0, 0.2, 0.5, 1, 2, 5]\n",
      "Estimates from dBESQ simulation:\n",
      "[[0.8794, 4.6921, 409.0839, 1269.3949, 176119.2046, 4870103.5545, 353964.5052, 63283196.2725, 126687596.5141, 2139600199.9762], [1.1292, 3.1104, 161780.5711, 1318.7925, 35636.3222, 1179431.2922, 23375255.4611, 63683237.5249, 101314187.6043, 4556099153.8372], [1.513, 162.2153, 308.8732, 4301379.2208, 105729351.5294, 95706516.7281, 536843682.4985, 2279393286.5518, 11234135250.8203, 178935322867.7317], [116.6182, 28095.6018, 83872078.2952, 11944247194.6623, 2604653680.7537, 22038340771.3855, 4368848207.5673, 4876485873.5384, 737311609572.4574, 692257043323.9851], [789229.2738, 87605180.1659, 298705191.5871, 7782981625.086, 1035041606.9551, 1071095651061.215, 490253667041.3743, 557914937658.5508, 8422266281008.935, 1136081847511.7554], [706980452.7326, 2426226442.258, 6734248950624.237, 26626008393893.65, 2523186436430.357, 209146380964147.25, 60658729087360.72, 26447177826712.605, 2.5270595747978883e+17, 319330551969541.5]]\n",
      "Estimates from dLaguerre simulation:\n"
     ]
    },
    {
     "ename": "NameError",
     "evalue": "name 'dLaguerre_estimates_poly' is not defined",
     "output_type": "error",
     "traceback": [
      "\u001b[0;31m---------------------------------------------------------------------------\u001b[0m",
      "\u001b[0;31mNameError\u001b[0m                                 Traceback (most recent call last)",
      "Input \u001b[0;32mIn [3]\u001b[0m, in \u001b[0;36m<cell line: 43>\u001b[0;34m()\u001b[0m\n\u001b[1;32m     41\u001b[0m \u001b[38;5;28mprint\u001b[39m(dBESQ_estimates_poly)\n\u001b[1;32m     42\u001b[0m \u001b[38;5;28mprint\u001b[39m(\u001b[38;5;124m'\u001b[39m\u001b[38;5;124mEstimates from dLaguerre simulation:\u001b[39m\u001b[38;5;124m'\u001b[39m)\n\u001b[0;32m---> 43\u001b[0m \u001b[38;5;28mprint\u001b[39m(\u001b[43mdLaguerre_estimates_poly\u001b[49m)\n",
      "\u001b[0;31mNameError\u001b[0m: name 'dLaguerre_estimates_poly' is not defined"
     ]
    }
   ],
   "source": [
    "# import BD_simulator, BirthDeathBessel\n",
    "from BD_simulator import MC_BESQ_gateway, MC_BESQviaLaguerre_gateway, exact_BESQ\n",
    "import numpy as np\n",
    "# J: Bessel function\n",
    "from scipy.special import jv as J\n",
    "# L: Laguerre polynomial\n",
    "from scipy.special import  eval_laguerre as L\n",
    "\n",
    "testno = 0\n",
    "# TEST: (reparametrized) Bessel functions\n",
    "# Methods: dBESQ simulation, dLaguerre simulation, exact BESQ\n",
    "testno += 1\n",
    "num_paths = 10**2\n",
    "x0_array = range(10)\n",
    "times = [0, 0.2, 0.5, 1, 2, 5]\n",
    "dBESQ_estimates = [[MC_BESQ_gateway(N = num_paths, t = t, x0 = x0, test = 'bessel') for x0 in x0_array] for t in times]\n",
    "dLaguerre_estimates = [[MC_BESQviaLaguerre_gateway(N = num_paths, t = t, x0 = x0, test = 'bessel') for x0 in x0_array] for t in times]\n",
    "BESQ_values = [[exact_BESQ(t = t, x0 = x0) for x0 in x0_array] for t in times]\n",
    "print('Test ', testno, ': Bessel functions')\n",
    "print('Initial values: ', x0_array)\n",
    "print('Times: ', times)\n",
    "print('Estimates from dBESQ simulation:')\n",
    "print(dBESQ_estimates)\n",
    "print('Estimates from dLaguerre simulation:')\n",
    "print(dLaguerre_estimates)\n",
    "print('Exact BESQ computation:')\n",
    "print(BESQ_values)\n",
    "\n",
    "\n",
    "# TEST: polynomials\n",
    "# Methods: dBESQ simulation, dLaguerre simulation\n",
    "nrounds = 10\n",
    "degree = 10\n",
    "for i in range(nrounds):\n",
    "    coeff = np.random.standard_normal(degree+1)\n",
    "    dBESQ_estimates_poly = [[MC_BESQ_gateway(N = num_paths, t = t, x0 = x0, test = 'poly', args = [coeff]) for x0 in x0_array] for t in times]\n",
    "    dLaguerre_estimates_poly = [[MC_BESQviaLaguerre_gateway(N = num_paths, t = t, x0 = x0, test = 'poly', args = [coeff]) for x0 in x0_array] for t in times]\n",
    "print('Initial values: ', x0_array)\n",
    "print('Times: ', times)\n",
    "print('Estimates from dBESQ simulation:')\n",
    "print(dBESQ_estimates_poly)\n",
    "print('Estimates from dLaguerre simulation:')\n",
    "print(dLaguerre_estimates_poly)\n",
    "    \n",
    "\n",
    "# x0 = 1\n",
    "# coef = [0, 1]\n",
    "# t = 0.1\n",
    "# # print(MC_BESQ_gateway(N = 10**4, t = t, x0 = x0, test = 'bessel'))\n",
    "# # print(MC_BESQviaLaguerre_gateway(N = 10**4, t = t, x0 = x0, test = 'bessel')\n",
    "# print(exact_BESQ(t = t, x0 = x0))\n",
    "# print(MC_BESQ_hankel(N = 10**3, t = t, x0 = x0, test = 'poly', args = [coef]))\n",
    "# # print(hankel_modified(np.random.exponential(t), lambda x : np.sqrt(x)))\n",
    "\n",
    "\n",
    "\n",
    "\n",
    "\n"
   ]
  },
  {
   "cell_type": "code",
   "execution_count": null,
   "id": "49a48d07",
   "metadata": {},
   "outputs": [],
   "source": []
  }
 ],
 "metadata": {
  "kernelspec": {
   "display_name": "Python 3 (ipykernel)",
   "language": "python",
   "name": "python3"
  },
  "language_info": {
   "codemirror_mode": {
    "name": "ipython",
    "version": 3
   },
   "file_extension": ".py",
   "mimetype": "text/x-python",
   "name": "python",
   "nbconvert_exporter": "python",
   "pygments_lexer": "ipython3",
   "version": "3.10.0"
  }
 },
 "nbformat": 4,
 "nbformat_minor": 5
}
