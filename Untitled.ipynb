{
 "cells": [
  {
   "cell_type": "code",
   "execution_count": 1,
   "id": "ec090d23",
   "metadata": {},
   "outputs": [
    {
     "ename": "ModuleNotFoundError",
     "evalue": "No module named 'bd_sim_cython'",
     "output_type": "error",
     "traceback": [
      "\u001b[0;31m---------------------------------------------------------------------------\u001b[0m",
      "\u001b[0;31mModuleNotFoundError\u001b[0m                       Traceback (most recent call last)",
      "Input \u001b[0;32mIn [1]\u001b[0m, in \u001b[0;36m<cell line: 1>\u001b[0;34m()\u001b[0m\n\u001b[0;32m----> 1\u001b[0m \u001b[38;5;28;01mimport\u001b[39;00m \u001b[38;5;21;01mBD_simulator\u001b[39;00m\u001b[38;5;241m,\u001b[39m \u001b[38;5;21;01mBirthDeathBessel\u001b[39;00m\n\u001b[1;32m      2\u001b[0m \u001b[38;5;28;01mimport\u001b[39;00m \u001b[38;5;21;01mnumpy\u001b[39;00m \u001b[38;5;28;01mas\u001b[39;00m \u001b[38;5;21;01mnp\u001b[39;00m\n\u001b[1;32m      3\u001b[0m \u001b[38;5;66;03m# J: Bessel function\u001b[39;00m\n",
      "File \u001b[0;32m~/Dropbox/ORIE 7590/ORIE7590/BD_simulator.py:3\u001b[0m, in \u001b[0;36m<module>\u001b[0;34m\u001b[0m\n\u001b[1;32m      1\u001b[0m \u001b[38;5;66;03m# ORIE 7590\u001b[39;00m\n\u001b[1;32m      2\u001b[0m \u001b[38;5;28;01mimport\u001b[39;00m \u001b[38;5;21;01mnumpy\u001b[39;00m \u001b[38;5;28;01mas\u001b[39;00m \u001b[38;5;21;01mnp\u001b[39;00m\n\u001b[0;32m----> 3\u001b[0m \u001b[38;5;28;01mfrom\u001b[39;00m \u001b[38;5;21;01mbd_sim_cython\u001b[39;00m \u001b[38;5;28;01mimport\u001b[39;00m bd_sim\n\u001b[1;32m      6\u001b[0m \u001b[38;5;28;01mdef\u001b[39;00m \u001b[38;5;21mbd_simulator\u001b[39m(t, x0, num_paths, num_threads\u001b[38;5;241m=\u001b[39m\u001b[38;5;241m4\u001b[39m):\n\u001b[1;32m      7\u001b[0m     \u001b[38;5;124;03m\"\"\"\u001b[39;00m\n\u001b[1;32m      8\u001b[0m \u001b[38;5;124;03m    :param t: terminal time, double\u001b[39;00m\n\u001b[1;32m      9\u001b[0m \u001b[38;5;124;03m    :param x0: initial state, callable or int\u001b[39;00m\n\u001b[0;32m   (...)\u001b[0m\n\u001b[1;32m     12\u001b[0m \u001b[38;5;124;03m    :return: ndarray of simulated result at terminal time\u001b[39;00m\n\u001b[1;32m     13\u001b[0m \u001b[38;5;124;03m    \"\"\"\u001b[39;00m\n",
      "\u001b[0;31mModuleNotFoundError\u001b[0m: No module named 'bd_sim_cython'"
     ]
    }
   ],
   "source": [
    "import BD_simulator, BirthDeathBessel\n",
    "import numpy as np\n",
    "# J: Bessel function\n",
    "from scipy.special import jv as J\n",
    "# L: Laguerre polynomial\n",
    "from scipy.special import  eval_laguerre as L\n",
    "\n",
    "testno = 0\n",
    "# TEST: (reparametrized) Bessel functions\n",
    "# Methods: dBESQ simulation, dLaguerre simulation, exact BESQ\n",
    "testno += 1\n",
    "num_paths = 10**2\n",
    "x0_array = range(10)\n",
    "times = [0, 0.2, 0.5, 1, 2, 5]\n",
    "dBESQ_estimates = [[MC_BESQ_gateway(N = num_paths, t = t, x0 = x0, test = 'bessel') for x0 in x0_array] for t in times]\n",
    "dLaguerre_estimates = [[MC_BESQviaLaguerre_gateway(N = num_paths, t = t, x0 = x0, test = 'bessel') for x0 in x0_array] for t in times]\n",
    "BESQ_values = [[exact_BESQ(t = t, x0 = x0) for x0 in x0_array] for t in times]\n",
    "print('Test ', testno, ': Bessel functions')\n",
    "print('Initial values: ', x0_array)\n",
    "print('Times: ', times)\n",
    "print('Estimates from dBESQ simulation:')\n",
    "print(dBESQ_estimates)\n",
    "print('Estimates from dLaguerre simulation:')\n",
    "print(dLaguerre_estimates)\n",
    "print('Exact BESQ computation:')\n",
    "print(BESQ_values)\n",
    "\n",
    "\n",
    "# TEST: polynomials\n",
    "# Methods: dBESQ simulation, dLaguerre simulation\n",
    "nrounds = 10\n",
    "degree = 10\n",
    "for i in range(nrounds):\n",
    "    coeff = np.random.standard_normal(degree+1)\n",
    "    dBESQ_estimates_poly = [[MC_BESQ_gateway(N = num_paths, t = t, x0 = x0, test = 'poly', args = [coeff]) for x0 in x0_array] for t in times]\n",
    "    dLaguerre_estimates = [[MC_BESQviaLaguerre_gateway(N = num_paths, t = t, x0 = x0, test = 'poly', args = [coeff]) for x0 in x0_array] for t in times]\n",
    "print('Initial values: ', x0_array)\n",
    "print('Times: ', times)\n",
    "print('Estimates from dBESQ simulation:')\n",
    "print(dBESQ_estimates_poly)\n",
    "print('Estimates from dLaguerre simulation:')\n",
    "print(dLaguerre_estimates_poly)\n",
    "    \n",
    "\n",
    "# x0 = 1\n",
    "# coef = [0, 1]\n",
    "# t = 0.1\n",
    "# # print(MC_BESQ_gateway(N = 10**4, t = t, x0 = x0, test = 'bessel'))\n",
    "# # print(MC_BESQviaLaguerre_gateway(N = 10**4, t = t, x0 = x0, test = 'bessel')\n",
    "# print(exact_BESQ(t = t, x0 = x0))\n",
    "# print(MC_BESQ_hankel(N = 10**3, t = t, x0 = x0, test = 'poly', args = [coef]))\n",
    "# # print(hankel_modified(np.random.exponential(t), lambda x : np.sqrt(x)))\n",
    "\n",
    "\n",
    "\n",
    "\n",
    "\n"
   ]
  },
  {
   "cell_type": "code",
   "execution_count": null,
   "id": "49a48d07",
   "metadata": {},
   "outputs": [],
   "source": []
  }
 ],
 "metadata": {
  "kernelspec": {
   "display_name": "Python 3 (ipykernel)",
   "language": "python",
   "name": "python3"
  },
  "language_info": {
   "codemirror_mode": {
    "name": "ipython",
    "version": 3
   },
   "file_extension": ".py",
   "mimetype": "text/x-python",
   "name": "python",
   "nbconvert_exporter": "python",
   "pygments_lexer": "ipython3",
   "version": "3.10.0"
  }
 },
 "nbformat": 4,
 "nbformat_minor": 5
}
